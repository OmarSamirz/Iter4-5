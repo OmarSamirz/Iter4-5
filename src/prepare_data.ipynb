{
 "cells": [
  {
   "cell_type": "markdown",
   "id": "2b93ccd1",
   "metadata": {},
   "source": [
    "# Import Libraries"
   ]
  },
  {
   "cell_type": "code",
   "execution_count": 1,
   "id": "85ee615c",
   "metadata": {},
   "outputs": [
    {
     "name": "stderr",
     "output_type": "stream",
     "text": [
      "c:\\internship\\embeddings\\.venv\\Lib\\site-packages\\tqdm\\auto.py:21: TqdmWarning: IProgress not found. Please update jupyter and ipywidgets. See https://ipywidgets.readthedocs.io/en/stable/user_install.html\n",
      "  from .autonotebook import tqdm as notebook_tqdm\n"
     ]
    }
   ],
   "source": [
    "import pandas as pd\n",
    "\n",
    "from utils import clean_text\n",
    "from constants import TRAIN_VAL_DATA_PATH, TEST_DATA_PATH, TRAIN_VAL_DATA_PATH, CLEANED_TEST_DATA_PATH"
   ]
  },
  {
   "cell_type": "markdown",
   "id": "4fd904fa",
   "metadata": {},
   "source": [
    "# Prepare Data"
   ]
  },
  {
   "cell_type": "markdown",
   "id": "145466ca",
   "metadata": {},
   "source": [
    "## Load Data"
   ]
  },
  {
   "cell_type": "code",
   "execution_count": 2,
   "id": "722180cf",
   "metadata": {},
   "outputs": [
    {
     "data": {
      "text/html": [
       "<div>\n",
       "<style scoped>\n",
       "    .dataframe tbody tr th:only-of-type {\n",
       "        vertical-align: middle;\n",
       "    }\n",
       "\n",
       "    .dataframe tbody tr th {\n",
       "        vertical-align: top;\n",
       "    }\n",
       "\n",
       "    .dataframe thead th {\n",
       "        text-align: right;\n",
       "    }\n",
       "</style>\n",
       "<table border=\"1\" class=\"dataframe\">\n",
       "  <thead>\n",
       "    <tr style=\"text-align: right;\">\n",
       "      <th></th>\n",
       "      <th>Item_Name</th>\n",
       "      <th>class</th>\n",
       "      <th>Brand</th>\n",
       "      <th>Weight</th>\n",
       "      <th>Number of units</th>\n",
       "      <th>Size of units</th>\n",
       "      <th>Price</th>\n",
       "      <th>T.Price</th>\n",
       "      <th>Pack</th>\n",
       "      <th>Unit</th>\n",
       "    </tr>\n",
       "  </thead>\n",
       "  <tbody>\n",
       "    <tr>\n",
       "      <th>0</th>\n",
       "      <td>Americana Okra zero 400 gm</td>\n",
       "      <td>Vegetables &amp; Fruits</td>\n",
       "      <td>Americana</td>\n",
       "      <td>400gm</td>\n",
       "      <td>1</td>\n",
       "      <td>NaN</td>\n",
       "      <td>NaN</td>\n",
       "      <td>NaN</td>\n",
       "      <td>كيس</td>\n",
       "      <td>gm</td>\n",
       "    </tr>\n",
       "    <tr>\n",
       "      <th>1</th>\n",
       "      <td>ليمون اداليا 500 جم</td>\n",
       "      <td>Tins, Jars &amp; Packets</td>\n",
       "      <td>NaN</td>\n",
       "      <td>500جم</td>\n",
       "      <td>1</td>\n",
       "      <td>NaN</td>\n",
       "      <td>NaN</td>\n",
       "      <td>NaN</td>\n",
       "      <td>علبة</td>\n",
       "      <td>جم</td>\n",
       "    </tr>\n",
       "    <tr>\n",
       "      <th>2</th>\n",
       "      <td>صلصه هاينز برطمان خصم عرض</td>\n",
       "      <td>Tins, Jars &amp; Packets</td>\n",
       "      <td>هاينز</td>\n",
       "      <td>NaN</td>\n",
       "      <td>1</td>\n",
       "      <td>NaN</td>\n",
       "      <td>NaN</td>\n",
       "      <td>NaN</td>\n",
       "      <td>علبة</td>\n",
       "      <td>NaN</td>\n",
       "    </tr>\n",
       "    <tr>\n",
       "      <th>3</th>\n",
       "      <td>Dasani water 330ML</td>\n",
       "      <td>Water</td>\n",
       "      <td>Dasani</td>\n",
       "      <td>330مل</td>\n",
       "      <td>1</td>\n",
       "      <td>NaN</td>\n",
       "      <td>NaN</td>\n",
       "      <td>NaN</td>\n",
       "      <td>زجاجة</td>\n",
       "      <td>مل</td>\n",
       "    </tr>\n",
       "    <tr>\n",
       "      <th>4</th>\n",
       "      <td>بودرة عصير أناناس من سورس، 900 جم</td>\n",
       "      <td>Soft Drinks &amp; Juices</td>\n",
       "      <td>سورس</td>\n",
       "      <td>900جم</td>\n",
       "      <td>1</td>\n",
       "      <td>NaN</td>\n",
       "      <td>NaN</td>\n",
       "      <td>NaN</td>\n",
       "      <td>عبوة</td>\n",
       "      <td>جم</td>\n",
       "    </tr>\n",
       "  </tbody>\n",
       "</table>\n",
       "</div>"
      ],
      "text/plain": [
       "                           Item_Name                 class      Brand Weight  \\\n",
       "0         Americana Okra zero 400 gm   Vegetables & Fruits  Americana  400gm   \n",
       "1                ليمون اداليا 500 جم  Tins, Jars & Packets        NaN  500جم   \n",
       "2          صلصه هاينز برطمان خصم عرض  Tins, Jars & Packets      هاينز    NaN   \n",
       "3                 Dasani water 330ML                 Water     Dasani  330مل   \n",
       "4  بودرة عصير أناناس من سورس، 900 جم  Soft Drinks & Juices       سورس  900جم   \n",
       "\n",
       "   Number of units Size of units  Price  T.Price   Pack Unit  \n",
       "0                1           NaN    NaN      NaN    كيس   gm  \n",
       "1                1           NaN    NaN      NaN   علبة   جم  \n",
       "2                1           NaN    NaN      NaN   علبة  NaN  \n",
       "3                1           NaN    NaN      NaN  زجاجة   مل  \n",
       "4                1           NaN    NaN      NaN   عبوة   جم  "
      ]
     },
     "execution_count": 2,
     "metadata": {},
     "output_type": "execute_result"
    }
   ],
   "source": [
    "df_test = pd.read_csv(\"..\" / TEST_DATA_PATH)\n",
    "df_test.head(5)"
   ]
  },
  {
   "cell_type": "code",
   "execution_count": 3,
   "id": "c138cd8a",
   "metadata": {},
   "outputs": [
    {
     "name": "stdout",
     "output_type": "stream",
     "text": [
      "<class 'pandas.core.frame.DataFrame'>\n",
      "RangeIndex: 4773 entries, 0 to 4772\n",
      "Data columns (total 10 columns):\n",
      " #   Column           Non-Null Count  Dtype  \n",
      "---  ------           --------------  -----  \n",
      " 0   Item_Name        4773 non-null   object \n",
      " 1   class            4772 non-null   object \n",
      " 2   Brand            3827 non-null   object \n",
      " 3   Weight           3022 non-null   object \n",
      " 4   Number of units  4773 non-null   int64  \n",
      " 5   Size of units    45 non-null     object \n",
      " 6   Price            278 non-null    float64\n",
      " 7   T.Price          278 non-null    float64\n",
      " 8   Pack             4604 non-null   object \n",
      " 9   Unit             3058 non-null   object \n",
      "dtypes: float64(2), int64(1), object(7)\n",
      "memory usage: 373.0+ KB\n"
     ]
    }
   ],
   "source": [
    "df_test.info()"
   ]
  },
  {
   "cell_type": "code",
   "execution_count": 4,
   "id": "bdcfc28f",
   "metadata": {},
   "outputs": [
    {
     "data": {
      "text/plain": [
       "<Axes: xlabel='Size of units'>"
      ]
     },
     "execution_count": 4,
     "metadata": {},
     "output_type": "execute_result"
    },
    {
     "data": {
      "image/png": "[encoded data removed]",
      "text/plain": [
       "<Figure size 640x480 with 1 Axes>"
      ]
     },
     "metadata": {},
     "output_type": "display_data"
    }
   ],
   "source": [
    "size_of_units = df_test[~df_test[\"Size of units\"].isna()][\"Size of units\"].value_counts()\n",
    "\n",
    "size_of_units.plot(kind=\"bar\")"
   ]
  },
  {
   "cell_type": "code",
   "execution_count": 5,
   "id": "cf6ba2c2",
   "metadata": {},
   "outputs": [
    {
     "name": "stdout",
     "output_type": "stream",
     "text": [
      "<class 'pandas.core.frame.DataFrame'>\n",
      "RangeIndex: 4773 entries, 0 to 4772\n",
      "Data columns (total 10 columns):\n",
      " #   Column           Non-Null Count  Dtype  \n",
      "---  ------           --------------  -----  \n",
      " 0   Item_Name        4773 non-null   object \n",
      " 1   class            4772 non-null   object \n",
      " 2   Brand            3827 non-null   object \n",
      " 3   Weight           3022 non-null   object \n",
      " 4   Number of units  4773 non-null   int64  \n",
      " 5   Size of units    45 non-null     object \n",
      " 6   Price            278 non-null    float64\n",
      " 7   T.Price          278 non-null    float64\n",
      " 8   Pack             4604 non-null   object \n",
      " 9   Unit             3058 non-null   object \n",
      "dtypes: float64(2), int64(1), object(7)\n",
      "memory usage: 373.0+ KB\n"
     ]
    }
   ],
   "source": [
    "df_test.info()"
   ]
  },
  {
   "cell_type": "markdown",
   "id": "a94edbb9",
   "metadata": {},
   "source": [
    "## Remove Nulls"
   ]
  },
  {
   "cell_type": "code",
   "execution_count": 6,
   "id": "3308ac30",
   "metadata": {},
   "outputs": [
    {
     "name": "stdout",
     "output_type": "stream",
     "text": [
      "<class 'pandas.core.frame.DataFrame'>\n",
      "Index: 4772 entries, 0 to 4772\n",
      "Data columns (total 10 columns):\n",
      " #   Column           Non-Null Count  Dtype  \n",
      "---  ------           --------------  -----  \n",
      " 0   Item_Name        4772 non-null   object \n",
      " 1   class            4772 non-null   object \n",
      " 2   Brand            3826 non-null   object \n",
      " 3   Weight           3021 non-null   object \n",
      " 4   Number of units  4772 non-null   int64  \n",
      " 5   Size of units    45 non-null     object \n",
      " 6   Price            278 non-null    float64\n",
      " 7   T.Price          278 non-null    float64\n",
      " 8   Pack             4603 non-null   object \n",
      " 9   Unit             3057 non-null   object \n",
      "dtypes: float64(2), int64(1), object(7)\n",
      "memory usage: 410.1+ KB\n"
     ]
    }
   ],
   "source": [
    "df_test.dropna(subset=[\"Item_Name\", \"class\"], inplace=True)\n",
    "df_test.info()"
   ]
  },
  {
   "cell_type": "markdown",
   "id": "27e9a6db",
   "metadata": {},
   "source": [
    "## Normalize Data"
   ]
  },
  {
   "cell_type": "code",
   "execution_count": 7,
   "id": "35134aee",
   "metadata": {},
   "outputs": [],
   "source": [
    "df_test[\"Item_Name\"] = df_test[\"Item_Name\"].str.lower()\n",
    "df_test[\"class\"] = df_test[\"class\"].str.lower()\n",
    "df_test[\"Unit\"] = df_test[\"Unit\"].str.lower()\n",
    "df_test[\"Weight\"] = df_test[\"Weight\"].str.lower()"
   ]
  },
  {
   "cell_type": "markdown",
   "id": "8187ede8",
   "metadata": {},
   "source": [
    "## Clean Data"
   ]
  },
  {
   "cell_type": "code",
   "execution_count": 8,
   "id": "5c8734c4",
   "metadata": {},
   "outputs": [
    {
     "data": {
      "text/html": [
       "<div>\n",
       "<style scoped>\n",
       "    .dataframe tbody tr th:only-of-type {\n",
       "        vertical-align: middle;\n",
       "    }\n",
       "\n",
       "    .dataframe tbody tr th {\n",
       "        vertical-align: top;\n",
       "    }\n",
       "\n",
       "    .dataframe thead th {\n",
       "        text-align: right;\n",
       "    }\n",
       "</style>\n",
       "<table border=\"1\" class=\"dataframe\">\n",
       "  <thead>\n",
       "    <tr style=\"text-align: right;\">\n",
       "      <th></th>\n",
       "      <th>Item_Name</th>\n",
       "      <th>class</th>\n",
       "      <th>Brand</th>\n",
       "      <th>Weight</th>\n",
       "      <th>Number of units</th>\n",
       "      <th>Size of units</th>\n",
       "      <th>Price</th>\n",
       "      <th>T.Price</th>\n",
       "      <th>Pack</th>\n",
       "      <th>Unit</th>\n",
       "      <th>cleaned_item_name</th>\n",
       "    </tr>\n",
       "  </thead>\n",
       "  <tbody>\n",
       "    <tr>\n",
       "      <th>0</th>\n",
       "      <td>americana okra zero 400 gm</td>\n",
       "      <td>vegetables &amp; fruits</td>\n",
       "      <td>Americana</td>\n",
       "      <td>400gm</td>\n",
       "      <td>1</td>\n",
       "      <td>NaN</td>\n",
       "      <td>NaN</td>\n",
       "      <td>NaN</td>\n",
       "      <td>كيس</td>\n",
       "      <td>gm</td>\n",
       "      <td>americana okra zero</td>\n",
       "    </tr>\n",
       "    <tr>\n",
       "      <th>1</th>\n",
       "      <td>ليمون اداليا 500 جم</td>\n",
       "      <td>tins, jars &amp; packets</td>\n",
       "      <td>NaN</td>\n",
       "      <td>500جم</td>\n",
       "      <td>1</td>\n",
       "      <td>NaN</td>\n",
       "      <td>NaN</td>\n",
       "      <td>NaN</td>\n",
       "      <td>علبة</td>\n",
       "      <td>جم</td>\n",
       "      <td>ليمون اداليا</td>\n",
       "    </tr>\n",
       "    <tr>\n",
       "      <th>2</th>\n",
       "      <td>صلصه هاينز برطمان خصم عرض</td>\n",
       "      <td>tins, jars &amp; packets</td>\n",
       "      <td>هاينز</td>\n",
       "      <td>NaN</td>\n",
       "      <td>1</td>\n",
       "      <td>NaN</td>\n",
       "      <td>NaN</td>\n",
       "      <td>NaN</td>\n",
       "      <td>علبة</td>\n",
       "      <td>NaN</td>\n",
       "      <td>صلصه هاينز برطمان خصم عرض</td>\n",
       "    </tr>\n",
       "    <tr>\n",
       "      <th>3</th>\n",
       "      <td>dasani water 330ml</td>\n",
       "      <td>water</td>\n",
       "      <td>Dasani</td>\n",
       "      <td>330مل</td>\n",
       "      <td>1</td>\n",
       "      <td>NaN</td>\n",
       "      <td>NaN</td>\n",
       "      <td>NaN</td>\n",
       "      <td>زجاجة</td>\n",
       "      <td>مل</td>\n",
       "      <td>dasani water</td>\n",
       "    </tr>\n",
       "    <tr>\n",
       "      <th>4</th>\n",
       "      <td>بودرة عصير أناناس من سورس، 900 جم</td>\n",
       "      <td>soft drinks &amp; juices</td>\n",
       "      <td>سورس</td>\n",
       "      <td>900جم</td>\n",
       "      <td>1</td>\n",
       "      <td>NaN</td>\n",
       "      <td>NaN</td>\n",
       "      <td>NaN</td>\n",
       "      <td>عبوة</td>\n",
       "      <td>جم</td>\n",
       "      <td>بودرة عصير أناناس من سورس</td>\n",
       "    </tr>\n",
       "    <tr>\n",
       "      <th>...</th>\n",
       "      <td>...</td>\n",
       "      <td>...</td>\n",
       "      <td>...</td>\n",
       "      <td>...</td>\n",
       "      <td>...</td>\n",
       "      <td>...</td>\n",
       "      <td>...</td>\n",
       "      <td>...</td>\n",
       "      <td>...</td>\n",
       "      <td>...</td>\n",
       "      <td>...</td>\n",
       "    </tr>\n",
       "    <tr>\n",
       "      <th>4768</th>\n",
       "      <td>جهينه كوكتيل 1ل</td>\n",
       "      <td>soft drinks &amp; juices</td>\n",
       "      <td>جهينه</td>\n",
       "      <td>1ل</td>\n",
       "      <td>1</td>\n",
       "      <td>NaN</td>\n",
       "      <td>NaN</td>\n",
       "      <td>NaN</td>\n",
       "      <td>زجاجة</td>\n",
       "      <td>ل</td>\n",
       "      <td>جهينه كوكتي</td>\n",
       "    </tr>\n",
       "    <tr>\n",
       "      <th>4769</th>\n",
       "      <td>دبل ديرى مشروب بنكهه ليمون 275مل</td>\n",
       "      <td>soft drinks &amp; juices</td>\n",
       "      <td>دبل ديرى</td>\n",
       "      <td>275مل</td>\n",
       "      <td>1</td>\n",
       "      <td>NaN</td>\n",
       "      <td>NaN</td>\n",
       "      <td>NaN</td>\n",
       "      <td>زجاجة</td>\n",
       "      <td>مل</td>\n",
       "      <td>دبل ديرى مشروب بنكهه ليمون</td>\n",
       "    </tr>\n",
       "    <tr>\n",
       "      <th>4770</th>\n",
       "      <td>galaxy smooth milk chocolate 24 x 36g</td>\n",
       "      <td>chocolates, sweets &amp; desserts</td>\n",
       "      <td>Galaxy</td>\n",
       "      <td>36جم</td>\n",
       "      <td>24</td>\n",
       "      <td>NaN</td>\n",
       "      <td>NaN</td>\n",
       "      <td>NaN</td>\n",
       "      <td>عبوة</td>\n",
       "      <td>جم</td>\n",
       "      <td>galaxy smooth milk chocolate x</td>\n",
       "    </tr>\n",
       "    <tr>\n",
       "      <th>4771</th>\n",
       "      <td>hot ketchup squeeze – 320g</td>\n",
       "      <td>sauces, dressings &amp; condiments</td>\n",
       "      <td>NaN</td>\n",
       "      <td>320g</td>\n",
       "      <td>1</td>\n",
       "      <td>NaN</td>\n",
       "      <td>NaN</td>\n",
       "      <td>NaN</td>\n",
       "      <td>عبوة</td>\n",
       "      <td>g</td>\n",
       "      <td>hot ketchup squeeze</td>\n",
       "    </tr>\n",
       "    <tr>\n",
       "      <th>4772</th>\n",
       "      <td>ابو عوف معمول شيكولاتة علبه</td>\n",
       "      <td>bakery</td>\n",
       "      <td>ابو عوف</td>\n",
       "      <td>NaN</td>\n",
       "      <td>1</td>\n",
       "      <td>NaN</td>\n",
       "      <td>NaN</td>\n",
       "      <td>NaN</td>\n",
       "      <td>كيس</td>\n",
       "      <td>NaN</td>\n",
       "      <td>ابو عوف معمول شيكولاتة علبه</td>\n",
       "    </tr>\n",
       "  </tbody>\n",
       "</table>\n",
       "<p>4772 rows × 11 columns</p>\n",
       "</div>"
      ],
      "text/plain": [
       "                                  Item_Name                           class  \\\n",
       "0                americana okra zero 400 gm             vegetables & fruits   \n",
       "1                       ليمون اداليا 500 جم            tins, jars & packets   \n",
       "2                 صلصه هاينز برطمان خصم عرض            tins, jars & packets   \n",
       "3                        dasani water 330ml                           water   \n",
       "4         بودرة عصير أناناس من سورس، 900 جم            soft drinks & juices   \n",
       "...                                     ...                             ...   \n",
       "4768                        جهينه كوكتيل 1ل            soft drinks & juices   \n",
       "4769       دبل ديرى مشروب بنكهه ليمون 275مل            soft drinks & juices   \n",
       "4770  galaxy smooth milk chocolate 24 x 36g   chocolates, sweets & desserts   \n",
       "4771             hot ketchup squeeze – 320g  sauces, dressings & condiments   \n",
       "4772            ابو عوف معمول شيكولاتة علبه                          bakery   \n",
       "\n",
       "          Brand Weight  Number of units Size of units  Price  T.Price   Pack  \\\n",
       "0     Americana  400gm                1           NaN    NaN      NaN    كيس   \n",
       "1           NaN  500جم                1           NaN    NaN      NaN   علبة   \n",
       "2         هاينز    NaN                1           NaN    NaN      NaN   علبة   \n",
       "3        Dasani  330مل                1           NaN    NaN      NaN  زجاجة   \n",
       "4          سورس  900جم                1           NaN    NaN      NaN   عبوة   \n",
       "...         ...    ...              ...           ...    ...      ...    ...   \n",
       "4768      جهينه     1ل                1           NaN    NaN      NaN  زجاجة   \n",
       "4769   دبل ديرى  275مل                1           NaN    NaN      NaN  زجاجة   \n",
       "4770     Galaxy   36جم               24           NaN    NaN      NaN   عبوة   \n",
       "4771        NaN   320g                1           NaN    NaN      NaN   عبوة   \n",
       "4772    ابو عوف    NaN                1           NaN    NaN      NaN    كيس   \n",
       "\n",
       "     Unit               cleaned_item_name  \n",
       "0      gm             americana okra zero  \n",
       "1      جم                    ليمون اداليا  \n",
       "2     NaN       صلصه هاينز برطمان خصم عرض  \n",
       "3      مل                    dasani water  \n",
       "4      جم       بودرة عصير أناناس من سورس  \n",
       "...   ...                             ...  \n",
       "4768    ل                     جهينه كوكتي  \n",
       "4769   مل      دبل ديرى مشروب بنكهه ليمون  \n",
       "4770   جم  galaxy smooth milk chocolate x  \n",
       "4771    g             hot ketchup squeeze  \n",
       "4772  NaN     ابو عوف معمول شيكولاتة علبه  \n",
       "\n",
       "[4772 rows x 11 columns]"
      ]
     },
     "execution_count": 8,
     "metadata": {},
     "output_type": "execute_result"
    }
   ],
   "source": [
    "df_test[\"cleaned_item_name\"] = df_test.apply(clean_text, axis=1)\n",
    "df_test"
   ]
  },
  {
   "cell_type": "markdown",
   "id": "3375c77d",
   "metadata": {},
   "source": [
    "## Save Cleaned Data"
   ]
  },
  {
   "cell_type": "code",
   "execution_count": 9,
   "id": "b4fdb762",
   "metadata": {},
   "outputs": [],
   "source": [
    "df_test.drop_duplicates(subset=[\"Item_Name\"], inplace=True)\n",
    "df_test.drop(columns=[\"Brand\", \"Weight\", \"Number of units\", \"Size of units\", \"Price\", \"T.Price\", \"Pack\", \"Unit\"], inplace=True)"
   ]
  },
  {
   "cell_type": "code",
   "execution_count": 11,
   "id": "c8d5d39a",
   "metadata": {},
   "outputs": [],
   "source": [
    "df_test = df_test[~(df_test[\"cleaned_item_name\"]==\"\")]"
   ]
  },
  {
   "cell_type": "code",
   "execution_count": 12,
   "id": "d6323340",
   "metadata": {},
   "outputs": [],
   "source": [
    "df_test.to_csv(\"..\" / CLEANED_TEST_DATA_PATH, index=False, encoding=\"utf-8-sig\")"
   ]
  },
  {
   "cell_type": "code",
   "execution_count": null,
   "id": "7fa25171",
   "metadata": {},
   "outputs": [],
   "source": []
  }
 ],
 "metadata": {
  "kernelspec": {
   "display_name": ".venv (3.13.5)",
   "language": "python",
   "name": "python3"
  },
  "language_info": {
   "codemirror_mode": {
    "name": "ipython",
    "version": 3
   },
   "file_extension": ".py",
   "mimetype": "text/x-python",
   "name": "python",
   "nbconvert_exporter": "python",
   "pygments_lexer": "ipython3",
   "version": "3.13.5"
  }
 },
 "nbformat": 4,
 "nbformat_minor": 5
}
